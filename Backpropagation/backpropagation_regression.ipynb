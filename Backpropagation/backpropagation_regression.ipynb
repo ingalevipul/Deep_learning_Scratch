{
  "cells": [
    {
      "cell_type": "code",
      "execution_count": 1,
      "metadata": {
        "id": "lgnPvgw8DyOq"
      },
      "outputs": [],
      "source": [
        "import numpy as np\n",
        "import pandas as pd\n",
        "import warnings\n",
        "warnings.filterwarnings('ignore')"
      ]
    },
    {
      "cell_type": "code",
      "execution_count": 2,
      "metadata": {},
      "outputs": [
        {
          "name": "stdout",
          "output_type": "stream",
          "text": [
            "    cgpa  profile_score   lpa\n",
            "0   6.87             15  7.56\n",
            "1   9.75              8  6.89\n",
            "2   8.66             12  8.40\n",
            "3   7.99              9  7.48\n",
            "4   5.78             14  6.91\n",
            "5   5.78              8  5.48\n",
            "6   5.29             10  5.04\n",
            "7   9.33              8  6.86\n",
            "8   8.01             12  7.38\n",
            "9   8.54             10  8.03\n",
            "10  5.10             14  6.91\n",
            "11  9.85             12  7.82\n",
            "12  9.16              7  5.59\n",
            "13  6.06              9  5.21\n",
            "14  5.91             14  7.24\n",
            "15  5.92              7  5.22\n",
            "16  6.52             15  8.13\n",
            "17  7.62             14  7.09\n",
            "18  7.16             15  8.36\n",
            "19  6.46             10  6.24\n"
          ]
        }
      ],
      "source": [
        "\n",
        "np.random.seed(42)\n",
        "\n",
        "# Generate 20 samples\n",
        "num_samples = 20\n",
        "\n",
        "# Random CGPA between 5.0 and 10.0\n",
        "cgpa = np.round(np.random.uniform(5.0, 10.0, num_samples), 2)\n",
        "\n",
        "# Random profile scores between 6 and 15\n",
        "profile_score = np.random.randint(6, 16, num_samples)\n",
        "\n",
        "# Calculate LPA with some noise\n",
        "noise = np.round(np.random.normal(0, 0.5, num_samples), 2)\n",
        "lpa = np.round(0.5 * cgpa + 0.3 * profile_score + noise, 2)\n",
        "\n",
        "# Create DataFrame\n",
        "df = pd.DataFrame({\n",
        "    'cgpa': cgpa,\n",
        "    'profile_score': profile_score,\n",
        "    'lpa': lpa\n",
        "})\n",
        "\n",
        "# Display the DataFrame\n",
        "print(df)\n"
      ]
    },
    {
      "cell_type": "code",
      "execution_count": 3,
      "metadata": {
        "id": "gOL7f79VEKQn"
      },
      "outputs": [],
      "source": [
        "def initialize_parameters(layer_dims):\n",
        "\n",
        "  np.random.seed(3)\n",
        "  parameters = {}\n",
        "  L = len(layer_dims)\n",
        "\n",
        "  for l in range(1, L):\n",
        "\n",
        "    parameters['W' + str(l)] = np.ones((layer_dims[l-1], layer_dims[l]))*0.1\n",
        "    parameters['b' + str(l)] = np.zeros((layer_dims[l], 1))\n",
        "\n",
        "\n",
        "  return parameters"
      ]
    },
    {
      "cell_type": "code",
      "execution_count": 4,
      "metadata": {
        "colab": {
          "base_uri": "https://localhost:8080/"
        },
        "id": "VkduRBgNIp-z",
        "outputId": "5906fa17-ab7a-4790-d8c6-7dcad23b689a"
      },
      "outputs": [
        {
          "data": {
            "text/plain": [
              "{'W1': array([[0.1, 0.1],\n",
              "        [0.1, 0.1]]),\n",
              " 'b1': array([[0.],\n",
              "        [0.]]),\n",
              " 'W2': array([[0.1],\n",
              "        [0.1]]),\n",
              " 'b2': array([[0.]])}"
            ]
          },
          "execution_count": 4,
          "metadata": {},
          "output_type": "execute_result"
        }
      ],
      "source": [
        "initialize_parameters([2,2,1])"
      ]
    },
    {
      "cell_type": "code",
      "execution_count": 5,
      "metadata": {
        "id": "ZghmdgJzEg0D"
      },
      "outputs": [],
      "source": [
        "def Linear_func(A_prev, W, b):\n",
        "\n",
        "  Z = np.dot(W.T, A_prev) + b\n",
        "\n",
        "  return Z"
      ]
    },
    {
      "cell_type": "code",
      "execution_count": null,
      "metadata": {
        "id": "5n5DFL99Gacw"
      },
      "outputs": [],
      "source": [
        "# Forward Prop\n",
        "def forward_pass(X, parameters):\n",
        "\n",
        "  A = X\n",
        "  L = len(parameters) // 2                  # number of layers in the neural network\n",
        "\n",
        "  for l in range(1, L+1):\n",
        "    A_prev = A\n",
        "    Wl = parameters['W' + str(l)]\n",
        "    bl = parameters['b' + str(l)]\n",
        "    A = Linear_func(A_prev, Wl, bl)\n",
        "    \n",
        "  return A,A_prev"
      ]
    },
    {
      "cell_type": "code",
      "execution_count": 9,
      "metadata": {
        "colab": {
          "base_uri": "https://localhost:8080/"
        },
        "id": "5ijULWqvJu0O",
        "outputId": "195c3602-d8a5-44a4-d224-278cd274a0ec"
      },
      "outputs": [],
      "source": [
        "X = df[['cgpa', 'profile_score']].values[0].reshape(2,1) # Shape(no of features, no. of training example)\n",
        "y = df[['lpa']].values[0][0]\n",
        "\n",
        "# Parameter initialization\n",
        "parameters = initialize_parameters([2,2,1])\n",
        "\n",
        "y_hat,A1 = forward_pass(X, parameters)"
      ]
    },
    {
      "cell_type": "code",
      "execution_count": 10,
      "metadata": {
        "id": "ZrhNecsGML3E"
      },
      "outputs": [],
      "source": [
        "y_hat = y_hat[0][0]"
      ]
    },
    {
      "cell_type": "code",
      "execution_count": 11,
      "metadata": {
        "colab": {
          "base_uri": "https://localhost:8080/"
        },
        "id": "fWPvGGQcJ-Wq",
        "outputId": "2700de8a-b50d-4183-f277-0b21a5210def"
      },
      "outputs": [
        {
          "data": {
            "text/plain": [
              "array([[2.187],\n",
              "       [2.187]])"
            ]
          },
          "execution_count": 11,
          "metadata": {},
          "output_type": "execute_result"
        }
      ],
      "source": [
        "A1"
      ]
    },
    {
      "cell_type": "code",
      "execution_count": 12,
      "metadata": {},
      "outputs": [
        {
          "data": {
            "text/plain": [
              "(np.float64(7.56), np.float64(0.43740000000000007))"
            ]
          },
          "execution_count": 12,
          "metadata": {},
          "output_type": "execute_result"
        }
      ],
      "source": [
        "y,y_hat"
      ]
    },
    {
      "cell_type": "code",
      "execution_count": 15,
      "metadata": {
        "colab": {
          "base_uri": "https://localhost:8080/"
        },
        "id": "sTSNat7KNTm7",
        "outputId": "f3d3d349-c993-4d2f-a720-48e0e8433db9"
      },
      "outputs": [
        {
          "data": {
            "text/plain": [
              "{'W1': array([[0.1, 0.1],\n",
              "        [0.1, 0.1]]),\n",
              " 'b1': array([[0.],\n",
              "        [0.]]),\n",
              " 'W2': array([[0.1],\n",
              "        [0.1]]),\n",
              " 'b2': array([[0.]])}"
            ]
          },
          "execution_count": 15,
          "metadata": {},
          "output_type": "execute_result"
        }
      ],
      "source": [
        "parameters"
      ]
    },
    {
      "cell_type": "code",
      "execution_count": 16,
      "metadata": {
        "id": "zyWoiZWYL8ft"
      },
      "outputs": [],
      "source": [
        "def update_parameters(parameters,y,y_hat,A1,X,L):\n",
        "  parameters['W2'][0][0] = parameters['W2'][0][0] + (L * 2 * (y - y_hat)*A1[0][0])\n",
        "  parameters['W2'][1][0] = parameters['W2'][1][0] + (L * 2 * (y - y_hat)*A1[1][0])\n",
        "  parameters['b2'][0][0] = parameters['W2'][1][0] + (L * 2 * (y - y_hat))\n",
        "\n",
        "  parameters['W1'][0][0] = parameters['W1'][0][0] + (L * 2 * (y - y_hat)*parameters['W2'][0][0]*X[0][0])\n",
        "  parameters['W1'][0][1] = parameters['W1'][0][1] + (L * 2 * (y - y_hat)*parameters['W2'][0][0]*X[1][0])\n",
        "  parameters['b1'][0][0] = parameters['b1'][0][0] + (L * 2 * (y - y_hat)*parameters['W2'][0][0])\n",
        "\n",
        "  parameters['W1'][1][0] = parameters['W1'][1][0] + (L * 2 * (y - y_hat)*parameters['W2'][1][0]*X[0][0])\n",
        "  parameters['W1'][1][1] = parameters['W1'][1][1] + (L * 2 * (y - y_hat)*parameters['W2'][1][0]*X[1][0])\n",
        "  parameters['b1'][1][0] = parameters['b1'][1][0] + (L * 2 * (y - y_hat)*parameters['W2'][1][0])"
      ]
    },
    {
      "cell_type": "code",
      "execution_count": null,
      "metadata": {
        "colab": {
          "base_uri": "https://localhost:8080/"
        },
        "id": "S-ZcZmJafwkc",
        "outputId": "8af42b77-b968-4b76-e598-8e6006a56219"
      },
      "outputs": [
        {
          "name": "stdout",
          "output_type": "stream",
          "text": [
            "Epoch -  1 Loss -  12.754764131563167\n",
            "Epoch -  2 Loss -  0.18326684218885475\n",
            "Epoch -  3 Loss -  0.4038813526535131\n",
            "Epoch -  4 Loss -  0.40944334903753987\n",
            "Epoch -  5 Loss -  0.19333845054629117\n",
            "Epoch -  6 Loss -  0.2761739878336967\n",
            "Epoch -  7 Loss -  0.26026440087662567\n",
            "Epoch -  8 Loss -  0.34336120056031266\n",
            "Epoch -  9 Loss -  0.3035549682546901\n",
            "Epoch -  10 Loss -  0.4825741143848915\n",
            "Epoch -  11 Loss -  0.4787639337681459\n",
            "Epoch -  12 Loss -  0.4126261584289585\n",
            "Epoch -  13 Loss -  0.22264486943195244\n",
            "Epoch -  14 Loss -  0.24292258886422932\n",
            "Epoch -  15 Loss -  0.48981312381359327\n",
            "Epoch -  16 Loss -  0.3464538832782079\n",
            "Epoch -  17 Loss -  0.40452171897203054\n",
            "Epoch -  18 Loss -  0.34957892920014283\n",
            "Epoch -  19 Loss -  0.3970347343214528\n",
            "Epoch -  20 Loss -  0.3841512903012683\n",
            "Epoch -  21 Loss -  0.3165140287098809\n",
            "Epoch -  22 Loss -  0.38939109133729694\n",
            "Epoch -  23 Loss -  0.30528528293010837\n",
            "Epoch -  24 Loss -  0.5025002148403186\n",
            "Epoch -  25 Loss -  0.24974375329826945\n",
            "Epoch -  26 Loss -  0.34289872917546277\n",
            "Epoch -  27 Loss -  0.4643623586694018\n",
            "Epoch -  28 Loss -  0.3697184543671081\n",
            "Epoch -  29 Loss -  0.514924722989174\n",
            "Epoch -  30 Loss -  0.38880008673051647\n"
          ]
        }
      ],
      "source": [
        "def backpropagation_train(epochs=30,parms=[2,2,1],learning_rate=0.001):\n",
        "    parameters = initialize_parameters(parms)\n",
        "\n",
        "    for i in range(epochs):\n",
        "      Loss = []\n",
        "\n",
        "      for j in range(df.shape[0]):\n",
        "        random_ip=df.sample()\n",
        "        X=random_ip[['cgpa', 'profile_score']].values.reshape(2,1)\n",
        "        y=random_ip['lpa'].values.reshape(1,1)\n",
        "\n",
        "    # Parameter initialization\n",
        "\n",
        "\n",
        "        y_hat,A1 = forward_pass(X,parameters)\n",
        "        y_hat = y_hat[0][0]\n",
        "\n",
        "        update_parameters(parameters,y,y_hat,A1,X,learning_rate)\n",
        "\n",
        "        Loss.append((y-y_hat)**2)\n",
        "\n",
        "      print('Epoch - ',i+1,'Loss - ',np.array(Loss).mean())\n",
        "      \n",
        "backpropagation_train()\n",
        "\n"
      ]
    },
    {
      "cell_type": "code",
      "execution_count": 24,
      "metadata": {},
      "outputs": [],
      "source": [
        "def predict(x1,x2,y):\n",
        "    X=np.array([x1,x2]).reshape(2,1)\n",
        "    y=np.array([y]).reshape(1,1)\n",
        "    Predicted,_=forward_pass(X, parameters)\n",
        "\n",
        "    error=Predicted-y\n",
        "\n",
        "    return Predicted,error\n",
        "\n"
      ]
    },
    {
      "cell_type": "code",
      "execution_count": 26,
      "metadata": {},
      "outputs": [
        {
          "data": {
            "text/plain": [
              "(array([[6.29871707]]), array([[-0.70128293]]))"
            ]
          },
          "execution_count": 26,
          "metadata": {},
          "output_type": "execute_result"
        }
      ],
      "source": [
        "predict(9,8,7)"
      ]
    }
  ],
  "metadata": {
    "colab": {
      "provenance": []
    },
    "kernelspec": {
      "display_name": "Python 3",
      "name": "python3"
    },
    "language_info": {
      "codemirror_mode": {
        "name": "ipython",
        "version": 3
      },
      "file_extension": ".py",
      "mimetype": "text/x-python",
      "name": "python",
      "nbconvert_exporter": "python",
      "pygments_lexer": "ipython3",
      "version": "3.13.4"
    }
  },
  "nbformat": 4,
  "nbformat_minor": 0
}
