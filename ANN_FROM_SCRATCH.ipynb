{
 "cells": [
  {
   "cell_type": "code",
   "execution_count": 1,
   "id": "b6614258",
   "metadata": {},
   "outputs": [],
   "source": [
    "import pandas as pd \n",
    "import numpy as np"
   ]
  },
  {
   "cell_type": "code",
   "execution_count": 2,
   "id": "2570a2f9",
   "metadata": {},
   "outputs": [],
   "source": [
    "X_train=pd.read_csv(\"C://Users//ankit//Desktop//ml-005//RAG project//mnist_train.csv\")"
   ]
  },
  {
   "cell_type": "code",
   "execution_count": 3,
   "id": "31c8398e",
   "metadata": {},
   "outputs": [],
   "source": [
    "Y_train=X_train.iloc[:,0]\n",
    "X_train=X_train.iloc[:,1:]"
   ]
  },
  {
   "cell_type": "code",
   "execution_count": 4,
   "id": "f1bcaeb7",
   "metadata": {},
   "outputs": [
    {
     "data": {
      "text/html": [
       "<div>\n",
       "<style scoped>\n",
       "    .dataframe tbody tr th:only-of-type {\n",
       "        vertical-align: middle;\n",
       "    }\n",
       "\n",
       "    .dataframe tbody tr th {\n",
       "        vertical-align: top;\n",
       "    }\n",
       "\n",
       "    .dataframe thead th {\n",
       "        text-align: right;\n",
       "    }\n",
       "</style>\n",
       "<table border=\"1\" class=\"dataframe\">\n",
       "  <thead>\n",
       "    <tr style=\"text-align: right;\">\n",
       "      <th></th>\n",
       "      <th>0</th>\n",
       "      <th>0.1</th>\n",
       "      <th>0.2</th>\n",
       "      <th>0.3</th>\n",
       "      <th>0.4</th>\n",
       "      <th>0.5</th>\n",
       "      <th>0.6</th>\n",
       "      <th>0.7</th>\n",
       "      <th>0.8</th>\n",
       "      <th>0.9</th>\n",
       "      <th>...</th>\n",
       "      <th>0.608</th>\n",
       "      <th>0.609</th>\n",
       "      <th>0.610</th>\n",
       "      <th>0.611</th>\n",
       "      <th>0.612</th>\n",
       "      <th>0.613</th>\n",
       "      <th>0.614</th>\n",
       "      <th>0.615</th>\n",
       "      <th>0.616</th>\n",
       "      <th>0.617</th>\n",
       "    </tr>\n",
       "  </thead>\n",
       "  <tbody>\n",
       "    <tr>\n",
       "      <th>0</th>\n",
       "      <td>0</td>\n",
       "      <td>0</td>\n",
       "      <td>0</td>\n",
       "      <td>0</td>\n",
       "      <td>0</td>\n",
       "      <td>0</td>\n",
       "      <td>0</td>\n",
       "      <td>0</td>\n",
       "      <td>0</td>\n",
       "      <td>0</td>\n",
       "      <td>...</td>\n",
       "      <td>0</td>\n",
       "      <td>0</td>\n",
       "      <td>0</td>\n",
       "      <td>0</td>\n",
       "      <td>0</td>\n",
       "      <td>0</td>\n",
       "      <td>0</td>\n",
       "      <td>0</td>\n",
       "      <td>0</td>\n",
       "      <td>0</td>\n",
       "    </tr>\n",
       "    <tr>\n",
       "      <th>1</th>\n",
       "      <td>0</td>\n",
       "      <td>0</td>\n",
       "      <td>0</td>\n",
       "      <td>0</td>\n",
       "      <td>0</td>\n",
       "      <td>0</td>\n",
       "      <td>0</td>\n",
       "      <td>0</td>\n",
       "      <td>0</td>\n",
       "      <td>0</td>\n",
       "      <td>...</td>\n",
       "      <td>0</td>\n",
       "      <td>0</td>\n",
       "      <td>0</td>\n",
       "      <td>0</td>\n",
       "      <td>0</td>\n",
       "      <td>0</td>\n",
       "      <td>0</td>\n",
       "      <td>0</td>\n",
       "      <td>0</td>\n",
       "      <td>0</td>\n",
       "    </tr>\n",
       "    <tr>\n",
       "      <th>2</th>\n",
       "      <td>0</td>\n",
       "      <td>0</td>\n",
       "      <td>0</td>\n",
       "      <td>0</td>\n",
       "      <td>0</td>\n",
       "      <td>0</td>\n",
       "      <td>0</td>\n",
       "      <td>0</td>\n",
       "      <td>0</td>\n",
       "      <td>0</td>\n",
       "      <td>...</td>\n",
       "      <td>0</td>\n",
       "      <td>0</td>\n",
       "      <td>0</td>\n",
       "      <td>0</td>\n",
       "      <td>0</td>\n",
       "      <td>0</td>\n",
       "      <td>0</td>\n",
       "      <td>0</td>\n",
       "      <td>0</td>\n",
       "      <td>0</td>\n",
       "    </tr>\n",
       "    <tr>\n",
       "      <th>3</th>\n",
       "      <td>0</td>\n",
       "      <td>0</td>\n",
       "      <td>0</td>\n",
       "      <td>0</td>\n",
       "      <td>0</td>\n",
       "      <td>0</td>\n",
       "      <td>0</td>\n",
       "      <td>0</td>\n",
       "      <td>0</td>\n",
       "      <td>0</td>\n",
       "      <td>...</td>\n",
       "      <td>0</td>\n",
       "      <td>0</td>\n",
       "      <td>0</td>\n",
       "      <td>0</td>\n",
       "      <td>0</td>\n",
       "      <td>0</td>\n",
       "      <td>0</td>\n",
       "      <td>0</td>\n",
       "      <td>0</td>\n",
       "      <td>0</td>\n",
       "    </tr>\n",
       "    <tr>\n",
       "      <th>4</th>\n",
       "      <td>0</td>\n",
       "      <td>0</td>\n",
       "      <td>0</td>\n",
       "      <td>0</td>\n",
       "      <td>0</td>\n",
       "      <td>0</td>\n",
       "      <td>0</td>\n",
       "      <td>0</td>\n",
       "      <td>0</td>\n",
       "      <td>0</td>\n",
       "      <td>...</td>\n",
       "      <td>0</td>\n",
       "      <td>0</td>\n",
       "      <td>0</td>\n",
       "      <td>0</td>\n",
       "      <td>0</td>\n",
       "      <td>0</td>\n",
       "      <td>0</td>\n",
       "      <td>0</td>\n",
       "      <td>0</td>\n",
       "      <td>0</td>\n",
       "    </tr>\n",
       "  </tbody>\n",
       "</table>\n",
       "<p>5 rows × 784 columns</p>\n",
       "</div>"
      ],
      "text/plain": [
       "   0  0.1  0.2  0.3  0.4  0.5  0.6  0.7  0.8  0.9  ...  0.608  0.609  0.610  \\\n",
       "0  0    0    0    0    0    0    0    0    0    0  ...      0      0      0   \n",
       "1  0    0    0    0    0    0    0    0    0    0  ...      0      0      0   \n",
       "2  0    0    0    0    0    0    0    0    0    0  ...      0      0      0   \n",
       "3  0    0    0    0    0    0    0    0    0    0  ...      0      0      0   \n",
       "4  0    0    0    0    0    0    0    0    0    0  ...      0      0      0   \n",
       "\n",
       "   0.611  0.612  0.613  0.614  0.615  0.616  0.617  \n",
       "0      0      0      0      0      0      0      0  \n",
       "1      0      0      0      0      0      0      0  \n",
       "2      0      0      0      0      0      0      0  \n",
       "3      0      0      0      0      0      0      0  \n",
       "4      0      0      0      0      0      0      0  \n",
       "\n",
       "[5 rows x 784 columns]"
      ]
     },
     "execution_count": 4,
     "metadata": {},
     "output_type": "execute_result"
    }
   ],
   "source": [
    "X_train.head()"
   ]
  },
  {
   "cell_type": "code",
   "execution_count": 5,
   "id": "f0b082c9",
   "metadata": {},
   "outputs": [
    {
     "data": {
      "text/plain": [
       "((59999, 784), (59999,))"
      ]
     },
     "execution_count": 5,
     "metadata": {},
     "output_type": "execute_result"
    }
   ],
   "source": [
    "X_train.shape,Y_train.shape"
   ]
  },
  {
   "cell_type": "code",
   "execution_count": 6,
   "id": "20ef772e",
   "metadata": {},
   "outputs": [
    {
     "data": {
      "text/plain": [
       "0    0\n",
       "1    4\n",
       "2    1\n",
       "3    9\n",
       "4    2\n",
       "Name: 5, dtype: int64"
      ]
     },
     "execution_count": 6,
     "metadata": {},
     "output_type": "execute_result"
    }
   ],
   "source": [
    "Y_train.head()"
   ]
  },
  {
   "cell_type": "code",
   "execution_count": 7,
   "id": "7d4c4193",
   "metadata": {},
   "outputs": [],
   "source": [
    "# Normalize pixel values to [0,1]\n",
    "X_train = X_train.values / 255.0\n",
    "Y_train = Y_train.values.astype(int)\n",
    "\n"
   ]
  },
  {
   "cell_type": "code",
   "execution_count": 8,
   "id": "d5bf21b1",
   "metadata": {},
   "outputs": [
    {
     "data": {
      "text/plain": [
       "array([0, 4, 1, ..., 5, 6, 8], shape=(59999,))"
      ]
     },
     "execution_count": 8,
     "metadata": {},
     "output_type": "execute_result"
    }
   ],
   "source": [
    "Y_train"
   ]
  },
  {
   "cell_type": "code",
   "execution_count": 9,
   "id": "8c6b31a6",
   "metadata": {},
   "outputs": [],
   "source": [
    "import numpy as np\n",
    "\n",
    "class ANN:\n",
    "    def __init__(self):\n",
    "        self.W1 = []\n",
    "        self.W2 = []\n",
    "        self.b1 = []\n",
    "        self.b2 = []\n",
    "        self.input_n = 784\n",
    "\n",
    "    def relu(self, Z):\n",
    "        return np.maximum(0, Z)\n",
    "\n",
    "    def softmax(self, Z):\n",
    "        exp_z = np.exp(Z - np.max(Z, axis=1, keepdims=True))  # for stability\n",
    "        return exp_z / np.sum(exp_z, axis=1, keepdims=True)\n",
    "\n",
    "    def initialize_weights_and_biases(self, input_dim, hidden_dim, output_dim):\n",
    "        self.W1 = np.random.uniform(low=-1, high=1, size=(input_dim, hidden_dim))\n",
    "        self.b1 = np.random.uniform(low=-1, high=1, size=(hidden_dim,))\n",
    "        self.W2 = np.random.uniform(low=-1, high=1, size=(hidden_dim, output_dim))\n",
    "        self.b2 = np.random.uniform(low=-1, high=1, size=(output_dim,))\n",
    "\n",
    "    def forward_prop(self, X):\n",
    "        Z1 = np.dot(X, self.W1) + self.b1\n",
    "        A1 = self.relu(Z1)\n",
    "        Z2 = np.dot(A1, self.W2) + self.b2\n",
    "        A2 = self.softmax(Z2)\n",
    "        return Z1, A1, Z2, A2\n",
    "\n",
    "    def get_class_labels(self, A2):\n",
    "        return np.argmax(A2, axis=1)\n",
    "\n",
    "    def gradient_calcus(self, A2, A1, Z1, X, Y):\n",
    "        N = X.shape[0]\n",
    "\n",
    "        dz2 = A2 - Y\n",
    "        dw2 = np.dot(A1.T, dz2) / N\n",
    "        db2 = np.sum(dz2, axis=0) / N\n",
    "\n",
    "        dA1 = np.dot(dz2, self.W2.T)\n",
    "        dZ1 = dA1 * (Z1 > 0).astype(float)\n",
    "\n",
    "        dW1 = np.dot(X.T, dZ1) / N\n",
    "        db1 = np.sum(dZ1, axis=0) / N\n",
    "\n",
    "        return dw2, db2, dW1, db1\n",
    "\n",
    "    def backpropagation(self, X, Y, learning_rate=0.01):\n",
    "        Z1, A1, Z2, A2 = self.forward_prop(X)\n",
    "        dw2, db2, dW1, db1 = self.gradient_calcus(A2, A1, Z1, X, Y)\n",
    "\n",
    "        self.W2 -= learning_rate * dw2\n",
    "        self.b2 -= learning_rate * db2\n",
    "        self.W1 -= learning_rate * dW1\n",
    "        self.b1 -= learning_rate * db1\n",
    "\n",
    "    def computeloss(self, Y_pred, Y_true):\n",
    "        eps = 1e-15\n",
    "        Y_pred_clipped = np.clip(Y_pred, eps, 1 - eps)\n",
    "        loss = -np.mean(np.sum(Y_true * np.log(Y_pred_clipped), axis=1))\n",
    "        return loss\n",
    "\n",
    "    def accuracy(self, Y_true, A2):\n",
    "        y_pred_labels = self.get_class_labels(A2)\n",
    "        y_true_labels = np.argmax(Y_true, axis=1)\n",
    "        return np.mean(y_pred_labels == y_true_labels)\n",
    "\n",
    "\n",
    "\n",
    "    def predic(self, X_test, y_test):\n",
    "        _, _, _, A2 = self.forward_prop(X_test)\n",
    "        return self.get_class_labels(A2)\n",
    "\n",
    "        \n",
    "    def train(self, X_train, Y_train, epochs=10, batch_size=32, learning_rate=0.01):\n",
    "        N = X_train.shape[0]\n",
    "        losses = []\n",
    "        accuracies = []\n",
    "\n",
    "        for epoch in range(epochs):\n",
    "            indices = np.arange(N)\n",
    "            np.random.shuffle(indices)\n",
    "            X_train_shuffled = X_train[indices]\n",
    "            Y_train_shuffled = Y_train[indices]\n",
    "\n",
    "            epoch_loss = 0\n",
    "            num_batches = 0\n",
    "\n",
    "            for start_idx in range(0, N, batch_size):\n",
    "                end_idx = min(start_idx + batch_size, N)\n",
    "                X_batch = X_train_shuffled[start_idx:end_idx]\n",
    "                Y_batch = Y_train_shuffled[start_idx:end_idx]\n",
    "\n",
    "                # Forward pass\n",
    "                Z1, A1, Z2, A2 = self.forward_prop(X_batch)\n",
    "\n",
    "                # One-hot encode true labels\n",
    "                one_hot_Y = np.zeros_like(A2)\n",
    "                one_hot_Y[np.arange(len(Y_batch)), Y_batch] = 1\n",
    "\n",
    "                # Loss\n",
    "                loss = self.computeloss(A2, one_hot_Y)\n",
    "                epoch_loss += loss\n",
    "\n",
    "                # Backprop\n",
    "                self.backpropagation(X_batch, one_hot_Y, learning_rate)\n",
    "\n",
    "                num_batches += 1\n",
    "\n",
    "            # After epoch\n",
    "            avg_loss = epoch_loss / num_batches\n",
    "            losses.append(avg_loss)\n",
    "\n",
    "            # Accuracy on full training set (optional: could use val set)\n",
    "            _, _, _, A2_train = self.forward_prop(X_train)\n",
    "            one_hot_Y_full = np.zeros_like(A2_train)\n",
    "            one_hot_Y_full[np.arange(N), Y_train] = 1\n",
    "            acc = self.accuracy(one_hot_Y_full, A2_train)\n",
    "            accuracies.append(acc)\n",
    "\n",
    "            print(f\"Epoch {epoch+1}/{epochs}, Loss: {avg_loss:.4f}, Accuracy: {acc:.4f}\")\n",
    "\n",
    "        return losses, accuracies\n",
    "\n"
   ]
  },
  {
   "cell_type": "code",
   "execution_count": 10,
   "id": "5c5b912d",
   "metadata": {},
   "outputs": [
    {
     "name": "stdout",
     "output_type": "stream",
     "text": [
      "Epoch 1/20, Loss: 2.5325, Accuracy: 0.3698\n",
      "Epoch 2/20, Loss: 1.6284, Accuracy: 0.4787\n",
      "Epoch 3/20, Loss: 1.3512, Accuracy: 0.5663\n",
      "Epoch 4/20, Loss: 1.1710, Accuracy: 0.6211\n",
      "Epoch 5/20, Loss: 1.0518, Accuracy: 0.6579\n",
      "Epoch 6/20, Loss: 0.9660, Accuracy: 0.6882\n",
      "Epoch 7/20, Loss: 0.9004, Accuracy: 0.7083\n",
      "Epoch 8/20, Loss: 0.8465, Accuracy: 0.7275\n",
      "Epoch 9/20, Loss: 0.8016, Accuracy: 0.7441\n",
      "Epoch 10/20, Loss: 0.7625, Accuracy: 0.7583\n",
      "Epoch 11/20, Loss: 0.7286, Accuracy: 0.7669\n",
      "Epoch 12/20, Loss: 0.6991, Accuracy: 0.7802\n",
      "Epoch 13/20, Loss: 0.6731, Accuracy: 0.7871\n",
      "Epoch 14/20, Loss: 0.6502, Accuracy: 0.7960\n",
      "Epoch 15/20, Loss: 0.6304, Accuracy: 0.8034\n",
      "Epoch 16/20, Loss: 0.6110, Accuracy: 0.8099\n",
      "Epoch 17/20, Loss: 0.5945, Accuracy: 0.8154\n",
      "Epoch 18/20, Loss: 0.5788, Accuracy: 0.8215\n",
      "Epoch 19/20, Loss: 0.5644, Accuracy: 0.8253\n",
      "Epoch 20/20, Loss: 0.5515, Accuracy: 0.8292\n"
     ]
    }
   ],
   "source": [
    "model1= ANN()\n",
    "model1.initialize_weights_and_biases(input_dim=784, hidden_dim=10, output_dim=10)\n",
    "losses = model1.train(X_train, Y_train, epochs=20, batch_size=64, learning_rate=0.01)"
   ]
  },
  {
   "cell_type": "code",
   "execution_count": 11,
   "id": "bd24e74a",
   "metadata": {},
   "outputs": [],
   "source": [
    "X_test=pd.read_csv(\"C://Users//ankit//Desktop//ml-005//RAG project//mnist_test.csv\")"
   ]
  },
  {
   "cell_type": "code",
   "execution_count": 12,
   "id": "ec2c9797",
   "metadata": {},
   "outputs": [],
   "source": [
    "Y_test=X_test.iloc[:,0]\n",
    "X_test=X_test.iloc[:,1:]/255"
   ]
  },
  {
   "cell_type": "code",
   "execution_count": 13,
   "id": "ee53a137",
   "metadata": {},
   "outputs": [
    {
     "data": {
      "text/plain": [
       "0       2\n",
       "1       1\n",
       "2       0\n",
       "3       4\n",
       "4       1\n",
       "       ..\n",
       "9994    2\n",
       "9995    3\n",
       "9996    4\n",
       "9997    5\n",
       "9998    6\n",
       "Name: 7, Length: 9999, dtype: int64"
      ]
     },
     "execution_count": 13,
     "metadata": {},
     "output_type": "execute_result"
    }
   ],
   "source": [
    "Y_test"
   ]
  },
  {
   "cell_type": "code",
   "execution_count": 14,
   "id": "72ae1c0d",
   "metadata": {},
   "outputs": [],
   "source": [
    "Y_test=Y_test.values.astype(int)"
   ]
  },
  {
   "cell_type": "code",
   "execution_count": 15,
   "id": "fd16c2e8",
   "metadata": {},
   "outputs": [
    {
     "data": {
      "text/plain": [
       "array([2, 1, 0, ..., 4, 5, 6], shape=(9999,))"
      ]
     },
     "execution_count": 15,
     "metadata": {},
     "output_type": "execute_result"
    }
   ],
   "source": [
    "Y_test"
   ]
  },
  {
   "cell_type": "code",
   "execution_count": 16,
   "id": "8199f8cf",
   "metadata": {},
   "outputs": [],
   "source": [
    "Y_pred=model1.predic(X_test,Y_test)"
   ]
  },
  {
   "cell_type": "code",
   "execution_count": 17,
   "id": "b2bdde5e",
   "metadata": {},
   "outputs": [
    {
     "name": "stdout",
     "output_type": "stream",
     "text": [
      "model with 10 neurons in hidden layer:\n",
      "Test Accuracy: 0.8287\n"
     ]
    }
   ],
   "source": [
    "output1 = pd.DataFrame({\n",
    "    'Predicted': Y_pred,\n",
    "    'Actual': Y_test,\n",
    "    'Result': Y_pred == Y_test\n",
    "})\n",
    "\n",
    "print(\"model with 10 neurons in hidden layer:\")\n",
    "print(f\"Test Accuracy: {np.mean(output1['Result']):.4f}\")\n"
   ]
  },
  {
   "cell_type": "code",
   "execution_count": 18,
   "id": "7d017b42",
   "metadata": {},
   "outputs": [
    {
     "name": "stdout",
     "output_type": "stream",
     "text": [
      "Epoch 1/20, Loss: 3.2796, Accuracy: 0.7538\n",
      "Epoch 2/20, Loss: 1.2013, Accuracy: 0.8033\n",
      "Epoch 3/20, Loss: 0.8748, Accuracy: 0.8268\n",
      "Epoch 4/20, Loss: 0.7164, Accuracy: 0.8410\n",
      "Epoch 5/20, Loss: 0.6205, Accuracy: 0.8518\n",
      "Epoch 6/20, Loss: 0.5559, Accuracy: 0.8591\n",
      "Epoch 7/20, Loss: 0.5100, Accuracy: 0.8664\n",
      "Epoch 8/20, Loss: 0.4753, Accuracy: 0.8727\n",
      "Epoch 9/20, Loss: 0.4482, Accuracy: 0.8772\n",
      "Epoch 10/20, Loss: 0.4263, Accuracy: 0.8823\n",
      "Epoch 11/20, Loss: 0.4084, Accuracy: 0.8871\n",
      "Epoch 12/20, Loss: 0.3928, Accuracy: 0.8893\n",
      "Epoch 13/20, Loss: 0.3798, Accuracy: 0.8924\n",
      "Epoch 14/20, Loss: 0.3684, Accuracy: 0.8957\n",
      "Epoch 15/20, Loss: 0.3582, Accuracy: 0.8973\n",
      "Epoch 16/20, Loss: 0.3494, Accuracy: 0.8993\n",
      "Epoch 17/20, Loss: 0.3413, Accuracy: 0.9007\n",
      "Epoch 18/20, Loss: 0.3335, Accuracy: 0.9036\n",
      "Epoch 19/20, Loss: 0.3270, Accuracy: 0.9057\n",
      "Epoch 20/20, Loss: 0.3206, Accuracy: 0.9071\n"
     ]
    }
   ],
   "source": [
    "model2= ANN()\n",
    "model2.initialize_weights_and_biases(input_dim=784, hidden_dim=64, output_dim=10)\n",
    "losses = model2.train(X_train, Y_train, epochs=20, batch_size=64, learning_rate=0.01)"
   ]
  },
  {
   "cell_type": "code",
   "execution_count": 46,
   "id": "f2b9b268",
   "metadata": {},
   "outputs": [],
   "source": [
    "Y_pred=model2.predic(X_test,Y_test)"
   ]
  },
  {
   "cell_type": "code",
   "execution_count": 47,
   "id": "8155c6bd",
   "metadata": {},
   "outputs": [
    {
     "name": "stdout",
     "output_type": "stream",
     "text": [
      "model with 64 neurons in hidden layer:\n",
      "Test Accuracy: 0.9050\n"
     ]
    }
   ],
   "source": [
    "output2 = pd.DataFrame({\n",
    "    'Predicted': Y_pred,\n",
    "    'Actual': Y_test,\n",
    "    'Result': Y_pred == Y_test\n",
    "})\n",
    "\n",
    "print(\"model with 64 neurons in hidden layer:\")\n",
    "print(f\"Test Accuracy: {np.mean(output2['Result']):.4f}\")\n"
   ]
  },
  {
   "cell_type": "code",
   "execution_count": 48,
   "id": "0c6bbf53",
   "metadata": {},
   "outputs": [
    {
     "name": "stdout",
     "output_type": "stream",
     "text": [
      "predicted value: 2 Actual value 2\n"
     ]
    },
    {
     "data": {
      "image/png": "[encoded data removed]",
      "text/plain": [
       "<Figure size 640x480 with 2 Axes>"
      ]
     },
     "metadata": {},
     "output_type": "display_data"
    }
   ],
   "source": [
    "import matplotlib.pyplot as plt\n",
    "\n",
    "one_sample = X_test.iloc[0].to_numpy()      # Get first sample, shape: (784,)\n",
    "one_sample = one_sample  # Convert back to 0-255 scale if normalized\n",
    "one_sample = one_sample.reshape(28, 28)  # Reshape for display\n",
    "print(f\"predicted value: {output2['Predicted'][0]} Actual value {output2['Actual'][0]}\")\n",
    "plt.imshow(one_sample, cmap='gray')\n",
    "plt.title('Grayscale Image from Pixel Matrix')\n",
    "plt.colorbar(label='Pixel Intensity')\n",
    "plt.axis('off')\n",
    "plt.show()\n"
   ]
  }
 ],
 "metadata": {
  "kernelspec": {
   "display_name": "Python 3",
   "language": "python",
   "name": "python3"
  },
  "language_info": {
   "codemirror_mode": {
    "name": "ipython",
    "version": 3
   },
   "file_extension": ".py",
   "mimetype": "text/x-python",
   "name": "python",
   "nbconvert_exporter": "python",
   "pygments_lexer": "ipython3",
   "version": "3.13.4"
  }
 },
 "nbformat": 4,
 "nbformat_minor": 5
}
